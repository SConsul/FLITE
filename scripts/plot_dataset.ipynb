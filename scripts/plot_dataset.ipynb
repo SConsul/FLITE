{
 "cells": [
  {
   "cell_type": "code",
   "execution_count": 3,
   "source": [
    "# Copyright (c) Microsoft Corporation.\n",
    "# Licensed under the MIT license.\n",
    "\n",
    "import os\n",
    "import plotly\n",
    "import plotly.graph_objects as go\n",
    "\n",
    "# produce plots for ORBIT benchmark dataset, combining train/validation/test users\n",
    "DATASET_DIR = \"../../data/orbit_benchmark_224/\"\n",
    "PHASE = \"benchmark\"\n",
    "WITH_MODES = True\n",
    "PLOT_FOLDER = \"../plots\"\n",
    "\n",
    "# produce plots for just <train,validation,test> users in ORBIT benchmark dataset\n",
    "# DATASET_DIR = os.path.join(\"/path/to/benchmark/root\", \"<train,validation,test>\")\n",
    "# PHASE = \"benchmark_<train,validation,test>\"\n",
    "# WITH_MODES = False\n",
    "# PLOT_FOLDER = \"../plots\"\n",
    "\n",
    "# produce plots for ORBIT unfiltered dataset, combining all users\n",
    "# DATASET_DIR = \"/path/to/unfiltered/root\"\n",
    "# PHASE = \"unfiltered\"\n",
    "# WITH_MODES = False\n",
    "# PLOT_FOLDER = \"../plots\""
   ],
   "outputs": [],
   "metadata": {}
  },
  {
   "cell_type": "code",
   "execution_count": 5,
   "source": [
    "def get_videos_per_object_by_user(path):\n",
    "    user2objs, user2numvids, user2vids, vid2type = {}, {}, {}, {}\n",
    "    modes = os.listdir(path) if WITH_MODES else ['']\n",
    "    for mode in modes:\n",
    "        mode_dir = os.path.join(path, mode)\n",
    "        for user in os.listdir(mode_dir):\n",
    "            user_dir = os.path.join(mode_dir, user)\n",
    "            if os.path.isdir(user_dir):\n",
    "                user2objs[user] = []\n",
    "                user2numvids[user] = {'clean': [], 'clutter': [], 'clutter-pan': []}\n",
    "                user2vids[user] = []\n",
    "                for obj in os.listdir(user_dir):\n",
    "                    obj_dir = os.path.join(user_dir, obj)\n",
    "                    user2objs[user].append(obj)\n",
    "                    for video_type in ['clean', 'clutter', 'clutter-pan']:\n",
    "                        type_dir = os.path.join(obj_dir, video_type)\n",
    "                        if os.path.exists(type_dir):\n",
    "                            user2numvids[user][video_type].append( len(os.listdir(type_dir)) )\n",
    "                            for video in os.listdir(type_dir):\n",
    "                                user2vids[user].append(video)\n",
    "                                vid2type[video] = video_type\n",
    "                        else:\n",
    "                            user2numvids[user][video_type].append(0)\n",
    "\n",
    "    return user2objs, user2numvids, user2vids, vid2type\n",
    "\n",
    "os.makedirs(PLOT_FOLDER, exist_ok=True)\n",
    "user2objs, user2numvids, user2vids, vid2type = get_videos_per_object_by_user(DATASET_DIR)\n"
   ],
   "outputs": [
    {
     "output_type": "error",
     "ename": "NotADirectoryError",
     "evalue": "[Errno 20] Not a directory: '../../data/.DS_Store'",
     "traceback": [
      "\u001b[0;31m---------------------------------------------------------------------------\u001b[0m",
      "\u001b[0;31mNotADirectoryError\u001b[0m                        Traceback (most recent call last)",
      "\u001b[0;32m/var/folders/md/4v5dn28n61zdj4swjpyymzwm0000gn/T/ipykernel_15270/987707369.py\u001b[0m in \u001b[0;36m<module>\u001b[0;34m\u001b[0m\n\u001b[1;32m     26\u001b[0m \u001b[0;34m\u001b[0m\u001b[0m\n\u001b[1;32m     27\u001b[0m \u001b[0mos\u001b[0m\u001b[0;34m.\u001b[0m\u001b[0mmakedirs\u001b[0m\u001b[0;34m(\u001b[0m\u001b[0mPLOT_FOLDER\u001b[0m\u001b[0;34m,\u001b[0m \u001b[0mexist_ok\u001b[0m\u001b[0;34m=\u001b[0m\u001b[0;32mTrue\u001b[0m\u001b[0;34m)\u001b[0m\u001b[0;34m\u001b[0m\u001b[0;34m\u001b[0m\u001b[0m\n\u001b[0;32m---> 28\u001b[0;31m \u001b[0muser2objs\u001b[0m\u001b[0;34m,\u001b[0m \u001b[0muser2numvids\u001b[0m\u001b[0;34m,\u001b[0m \u001b[0muser2vids\u001b[0m\u001b[0;34m,\u001b[0m \u001b[0mvid2type\u001b[0m \u001b[0;34m=\u001b[0m \u001b[0mget_videos_per_object_by_user\u001b[0m\u001b[0;34m(\u001b[0m\u001b[0mDATASET_DIR\u001b[0m\u001b[0;34m)\u001b[0m\u001b[0;34m\u001b[0m\u001b[0;34m\u001b[0m\u001b[0m\n\u001b[0m",
      "\u001b[0;32m/var/folders/md/4v5dn28n61zdj4swjpyymzwm0000gn/T/ipykernel_15270/987707369.py\u001b[0m in \u001b[0;36mget_videos_per_object_by_user\u001b[0;34m(path)\u001b[0m\n\u001b[1;32m      4\u001b[0m     \u001b[0;32mfor\u001b[0m \u001b[0mmode\u001b[0m \u001b[0;32min\u001b[0m \u001b[0mmodes\u001b[0m\u001b[0;34m:\u001b[0m\u001b[0;34m\u001b[0m\u001b[0;34m\u001b[0m\u001b[0m\n\u001b[1;32m      5\u001b[0m         \u001b[0mmode_dir\u001b[0m \u001b[0;34m=\u001b[0m \u001b[0mos\u001b[0m\u001b[0;34m.\u001b[0m\u001b[0mpath\u001b[0m\u001b[0;34m.\u001b[0m\u001b[0mjoin\u001b[0m\u001b[0;34m(\u001b[0m\u001b[0mpath\u001b[0m\u001b[0;34m,\u001b[0m \u001b[0mmode\u001b[0m\u001b[0;34m)\u001b[0m\u001b[0;34m\u001b[0m\u001b[0;34m\u001b[0m\u001b[0m\n\u001b[0;32m----> 6\u001b[0;31m         \u001b[0;32mfor\u001b[0m \u001b[0muser\u001b[0m \u001b[0;32min\u001b[0m \u001b[0mos\u001b[0m\u001b[0;34m.\u001b[0m\u001b[0mlistdir\u001b[0m\u001b[0;34m(\u001b[0m\u001b[0mmode_dir\u001b[0m\u001b[0;34m)\u001b[0m\u001b[0;34m:\u001b[0m\u001b[0;34m\u001b[0m\u001b[0;34m\u001b[0m\u001b[0m\n\u001b[0m\u001b[1;32m      7\u001b[0m             \u001b[0muser_dir\u001b[0m \u001b[0;34m=\u001b[0m \u001b[0mos\u001b[0m\u001b[0;34m.\u001b[0m\u001b[0mpath\u001b[0m\u001b[0;34m.\u001b[0m\u001b[0mjoin\u001b[0m\u001b[0;34m(\u001b[0m\u001b[0mmode_dir\u001b[0m\u001b[0;34m,\u001b[0m \u001b[0muser\u001b[0m\u001b[0;34m)\u001b[0m\u001b[0;34m\u001b[0m\u001b[0;34m\u001b[0m\u001b[0m\n\u001b[1;32m      8\u001b[0m             \u001b[0;32mif\u001b[0m \u001b[0mos\u001b[0m\u001b[0;34m.\u001b[0m\u001b[0mpath\u001b[0m\u001b[0;34m.\u001b[0m\u001b[0misdir\u001b[0m\u001b[0;34m(\u001b[0m\u001b[0muser_dir\u001b[0m\u001b[0;34m)\u001b[0m\u001b[0;34m:\u001b[0m\u001b[0;34m\u001b[0m\u001b[0;34m\u001b[0m\u001b[0m\n",
      "\u001b[0;31mNotADirectoryError\u001b[0m: [Errno 20] Not a directory: '../../data/.DS_Store'"
     ]
    }
   ],
   "metadata": {
    "tags": []
   }
  },
  {
   "cell_type": "code",
   "execution_count": null,
   "source": [
    "def plot_objects_per_user_histogram(user2objs):\n",
    "    x, y, user_ids = [],[],[]\n",
    "    for i, k in enumerate(sorted(user2objs.items(), key=lambda x: len(x[1]), reverse=True)):\n",
    "        user_id, user_objs = k\n",
    "        x.append(i)\n",
    "        y.append(len(user_objs))\n",
    "        user_ids.append(user_id)\n",
    "    fig = go.Figure(data=[go.Bar(x=x, y=y)])\n",
    "    title=\"objects_per_user\"\n",
    "    layout = go.Layout(\n",
    "        height=1500,\n",
    "        width=3000,\n",
    "        font=dict(size=40),\n",
    "    \txaxis = go.layout.XAxis(\n",
    "       \t\ttitle = \"Collector\",\n",
    "            tickangle = 90,\n",
    "            ticks='',\n",
    "            ticktext = user_ids,\n",
    "            tickvals = x,\n",
    "            tickfont = dict(size=40)),\n",
    "        yaxis = go.layout.YAxis(\n",
    "    \t\ttitle = \"Number of objects\",\n",
    "            tickfont=dict(size=40))\n",
    "    )\n",
    "    fig.update_layout(layout)\n",
    "    plotly.offline.iplot(fig)\n",
    "    fig.write_html( os.path.join(PLOT_FOLDER, \"{:}_{:}.html\".format(title, PHASE)) )\n",
    "    fig.write_image( os.path.join(PLOT_FOLDER, \"{:}_{:}.pdf\".format(title, PHASE)) )\n",
    "\n",
    "plot_objects_per_user_histogram(user2objs)\n"
   ],
   "outputs": [],
   "metadata": {
    "tags": []
   }
  },
  {
   "cell_type": "code",
   "execution_count": null,
   "source": [
    "def plot_videos_by_object_per_user_histogram(user2objs, user2numvids):\n",
    "    x, user_ids = [],[]\n",
    "    MAX_OBJS = 15\n",
    "    COLORS=[(99, 110, 250, 1), (239, 85, 59, 1), (0, 204, 150, 1), (171, 99, 250, 1), (255, 161, 90, 1), (25, 211, 243, 1), (255, 102, 146, 1), (182, 232, 128, 1), (255, 151, 255, 1), (254, 203, 82, 1), (44, 160, 44, 1), (23, 190, 207, 1), (140, 86, 75, 1), (114, 183, 178, 1), (188, 189, 34, 1), (254, 203, 82, 1) ]\n",
    "    num_clean_vids_per_obj = [ [] for i in range(MAX_OBJS) ]\n",
    "    num_cluttered_vids_per_obj = [ [] for i in range(MAX_OBJS) ]\n",
    "    trace_names = [ \"obj {:}\".format(i+1) for i in range(MAX_OBJS)]\n",
    "    for i, k in enumerate(sorted(user2objs.items(), key=lambda x: len(x[1]), reverse=True)):\n",
    "        user_id, _ = k\n",
    "        x.append(i)\n",
    "        num_objs = len(user2objs[user_id])\n",
    "        for j in range(MAX_OBJS):\n",
    "            if j < num_objs:\n",
    "                num_clean_vids_per_obj[j].append( user2numvids[user_id]['clean'][j] )\n",
    "                num_cluttered_vids_per_obj[j].append( user2numvids[user_id]['clutter'][j] )\n",
    "        user_ids.append(user_id)\n",
    "    fig = go.Figure()\n",
    "    for j in range(MAX_OBJS):\n",
    "        lighter_color = list(COLORS[j])\n",
    "        lighter_color[3] = 0.65\n",
    "        fig.add_trace(go.Bar(x=x, y=num_clean_vids_per_obj[j], name=trace_names[j] + \" clean\", marker_color=\"rgba{:}\".format(tuple(lighter_color))))\n",
    "        fig.add_trace(go.Bar(x=x, y=num_cluttered_vids_per_obj[j], name=trace_names[j] + \" clutter\", marker_color=\"rgba{:}\".format(COLORS[j])))\n",
    "    title=\"videos_by_object_per_user\"\n",
    "    layout = go.Layout(\n",
    "        height=1500,\n",
    "        width=3000,\n",
    "        font=dict(size=40),\n",
    "    \txaxis = go.layout.XAxis(\n",
    "       \t\ttitle = \"Collector\",\n",
    "            tickangle = 90,\n",
    "            ticks='',\n",
    "            ticktext = user_ids,\n",
    "            tickvals = x,\n",
    "            tickfont=dict(size=40)),\n",
    "        yaxis = go.layout.YAxis(\n",
    "    \t\ttitle = \"Number of videos by object\",\n",
    "            tickfont=dict(size=40)),\n",
    "        barmode = 'stack',\n",
    "        showlegend=True,\n",
    "        legend = dict(font=dict(size=28), orientation='h', yanchor=\"bottom\", y=1, xanchor=\"left\", x=0)\n",
    "    )\n",
    "    fig.update_layout(layout)\n",
    "    plotly.offline.iplot(fig)\n",
    "    fig.write_html( os.path.join(PLOT_FOLDER, \"{:}_{:}.html\".format(title, PHASE)) )\n",
    "    fig.write_image( os.path.join(PLOT_FOLDER, \"{:}_{:}.pdf\".format(title, PHASE)) )\n",
    "\n",
    "plot_videos_by_object_per_user_histogram(user2objs, user2numvids)"
   ],
   "outputs": [],
   "metadata": {
    "tags": []
   }
  }
 ],
 "metadata": {
  "language_info": {
   "codemirror_mode": {
    "name": "ipython",
    "version": 3
   },
   "file_extension": ".py",
   "mimetype": "text/x-python",
   "name": "python",
   "nbconvert_exporter": "python",
   "pygments_lexer": "ipython3",
   "version": "3.8.12"
  },
  "orig_nbformat": 2,
  "kernelspec": {
   "name": "python3",
   "display_name": "Python 3.8.12 64-bit ('pytorch_env': conda)"
  },
  "interpreter": {
   "hash": "a1d58d0f680bf2f1ce60c1c8cf836234d648b9af7953736420592f7c6421bee6"
  }
 },
 "nbformat": 4,
 "nbformat_minor": 2
}